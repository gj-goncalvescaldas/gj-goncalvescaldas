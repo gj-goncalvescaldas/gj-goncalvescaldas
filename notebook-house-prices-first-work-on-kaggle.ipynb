{
 "cells": [
  {
   "cell_type": "markdown",
   "id": "5a4b98db",
   "metadata": {
    "_cell_guid": "b1076dfc-b9ad-4769-8c92-a6c4dae69d19",
    "_uuid": "8f2839f25d086af736a60e9eeb907d3b93b6e0e5",
    "papermill": {
     "duration": 0.002186,
     "end_time": "2024-06-15T14:31:49.497774",
     "exception": false,
     "start_time": "2024-06-15T14:31:49.495588",
     "status": "completed"
    },
    "tags": []
   },
   "source": [
    "###### "
   ]
  },
  {
   "cell_type": "markdown",
   "id": "eacad235",
   "metadata": {
    "papermill": {
     "duration": 0.00141,
     "end_time": "2024-06-15T14:31:49.500995",
     "exception": false,
     "start_time": "2024-06-15T14:31:49.499585",
     "status": "completed"
    },
    "tags": []
   },
   "source": [
    "**Introduction**\n",
    "\n",
    "This notebook will guide you through the process of predicting house prices using the Ames Housing dataset. We will use Python to explore, clean, and model the data.\n"
   ]
  },
  {
   "cell_type": "markdown",
   "id": "b41e5cb4",
   "metadata": {
    "papermill": {
     "duration": 0.001471,
     "end_time": "2024-06-15T14:31:49.504038",
     "exception": false,
     "start_time": "2024-06-15T14:31:49.502567",
     "status": "completed"
    },
    "tags": []
   },
   "source": []
  }
 ],
 "metadata": {
  "kaggle": {
   "accelerator": "none",
   "dataSources": [
    {
     "databundleVersionId": 868283,
     "sourceId": 5407,
     "sourceType": "competition"
    }
   ],
   "dockerImageVersionId": 30732,
   "isGpuEnabled": false,
   "isInternetEnabled": true,
   "language": "python",
   "sourceType": "notebook"
  },
  "kernelspec": {
   "display_name": "Python 3",
   "language": "python",
   "name": "python3"
  },
  "language_info": {
   "codemirror_mode": {
    "name": "ipython",
    "version": 3
   },
   "file_extension": ".py",
   "mimetype": "text/x-python",
   "name": "python",
   "nbconvert_exporter": "python",
   "pygments_lexer": "ipython3",
   "version": "3.10.13"
  },
  "papermill": {
   "default_parameters": {},
   "duration": 3.685783,
   "end_time": "2024-06-15T14:31:49.930097",
   "environment_variables": {},
   "exception": null,
   "input_path": "__notebook__.ipynb",
   "output_path": "__notebook__.ipynb",
   "parameters": {},
   "start_time": "2024-06-15T14:31:46.244314",
   "version": "2.5.0"
  }
 },
 "nbformat": 4,
 "nbformat_minor": 5
}
